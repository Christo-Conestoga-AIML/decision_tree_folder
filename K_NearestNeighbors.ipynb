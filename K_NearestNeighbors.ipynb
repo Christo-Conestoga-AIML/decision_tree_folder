{
 "cells": [
  {
   "cell_type": "markdown",
   "id": "9842d35f",
   "metadata": {},
   "source": [
    "## Week 5 Workshop: Regression using Non-Parametric Models"
   ]
  },
  {
   "metadata": {},
   "cell_type": "code",
   "source": "%pip install tabulate",
   "id": "17b074e9dc203b2f",
   "outputs": [],
   "execution_count": null
  },
  {
   "cell_type": "code",
   "id": "f300e3f0",
   "metadata": {},
   "source": [
    "from sklearn.datasets import load_iris\n",
    "from sklearn.model_selection import train_test_split\n",
    "from sklearn.neighbors import KNeighborsClassifier\n",
    "from sklearn.metrics import accuracy_score\n",
    "\n",
    "import  tabulate as tb\n",
    "import pandas as pd\n"
   ],
   "outputs": [],
   "execution_count": null
  },
  {
   "cell_type": "code",
   "id": "2b63d508",
   "metadata": {},
   "source": [
    "# Sample use case: Classifying Iris flower species using K Nearest Neighbors (KNN)\n",
    "\n",
    "# Load the Iris dataset\n",
    "iris = load_iris()\n",
    "\n",
    "df = pd.DataFrame(iris.data, columns=iris.feature_names)\n",
    "df['target'] = iris.target\n",
    "\n",
    "print(tb.tabulate(df.head(10), headers='keys', tablefmt='psql'))\n",
    "\n",
    "X = iris.data  # Features: sepal length, sepal width, petal length, petal width\n",
    "y = iris.target  # Labels: 0 = setosa, 1 = versicolor, 2 = virginica\n",
    "\n"
   ],
   "outputs": [],
   "execution_count": null
  },
  {
   "cell_type": "code",
   "id": "0cf0ccdf",
   "metadata": {},
   "source": [
    "# Split the data into training and testing sets\n",
    "# test_size=0.2 means 20% of the data will be used for testing and 80% for training\n",
    "# random_state=42 ensures reproducibility of the train/test split by setting a fixed seed for the random number generator\n",
    "X_train, X_test, y_train, y_test = train_test_split(X, y, test_size=0.2, random_state=42)\n",
    "\n",
    "# Create a KNN classifier with k=3\n",
    "knn = KNeighborsClassifier(n_neighbors=3)\n",
    "\n"
   ],
   "outputs": [],
   "execution_count": null
  },
  {
   "cell_type": "code",
   "id": "3ec683b9",
   "metadata": {},
   "source": [
    "# Train the classifier\n",
    "knn.fit(X_train, y_train)\n",
    "\n"
   ],
   "outputs": [],
   "execution_count": null
  },
  {
   "cell_type": "code",
   "id": "3516113a",
   "metadata": {},
   "source": [
    "import matplotlib.pyplot as plt\n",
    "\n",
    "# Use the first two features for visualization\n",
    "plt.figure(figsize=(8, 6))\n",
    "for target, color, label in zip([0, 1, 2], ['red', 'green', 'blue'], iris.target_names):\n",
    "    plt.scatter(X[y == target, 0], X[y == target, 1], c=color, label=label, edgecolor='k', s=40)\n",
    "plt.xlabel(iris.feature_names[0])\n",
    "plt.ylabel(iris.feature_names[1])\n",
    "plt.title(\"Iris Dataset - First Two Features\")\n",
    "plt.legend()\n",
    "plt.show()"
   ],
   "outputs": [],
   "execution_count": null
  },
  {
   "cell_type": "code",
   "id": "b26b3847",
   "metadata": {},
   "source": [
    "# Predict the species for the test set\n",
    "y_pred = knn.predict(X_test)\n",
    "\n",
    "# Evaluate the accuracy\n",
    "accuracy = accuracy_score(y_test, y_pred)\n",
    "print(\"KNN Classifier for Iris Dataset\")\n",
    "sample_idx = 10\n",
    "print(\"Sample features:\", X_test[sample_idx])\n",
    "print(\"True label:\", y_test[sample_idx])\n",
    "print(\"Predicted label:\", y_pred[sample_idx])\n",
    "#print(\"Test data sample:\", X_test)\n",
    "#print(\"Test data predictions:\", y_pred)\n",
    "print(f\"Test set accuracy: {accuracy:.2f}\")\n",
    "\n",
    "# Explanation:\n",
    "# KNN classifies a new data point by looking at the 'k' closest labeled data points in the training set.\n",
    "# The majority label among these neighbors is assigned to the new point.\n",
    "# In this example, we use KNN to classify iris flowers based on their features."
   ],
   "outputs": [],
   "execution_count": null
  },
  {
   "cell_type": "code",
   "id": "ec92c356",
   "metadata": {},
   "source": [
    "# Visualize the new data point (from X_test[sample_idx]) in the context of the entire dataset\n",
    "plt.figure(figsize=(8, 6))\n",
    "for target, color, label in zip([0, 1, 2], ['red', 'green', 'blue'], iris.target_names):\n",
    "    plt.scatter(X[y == target, 0], X[y == target, 1], c=color, label=label, edgecolor='k', s=40)\n",
    "\n",
    "# Plot the new data point\n",
    "plt.scatter(X_test[sample_idx, 0], X_test[sample_idx, 1], \n",
    "            c='yellow', edgecolor='black', s=200, marker='*', label='New Data Point')\n",
    "\n",
    "# Annotate with predicted class\n",
    "predicted_label = y_pred[sample_idx]\n",
    "plt.text(X_test[sample_idx, 0]+0.1, X_test[sample_idx, 1], \n",
    "         f'Predicted: {iris.target_names[predicted_label]}', fontsize=12, color='black')\n",
    "\n",
    "plt.xlabel(iris.feature_names[0])\n",
    "plt.ylabel(iris.feature_names[1])\n",
    "plt.title(\"Iris Dataset with New Data Point Highlighted\")\n",
    "plt.legend()\n",
    "plt.show()"
   ],
   "outputs": [],
   "execution_count": null
  },
  {
   "cell_type": "markdown",
   "id": "5ef4a5be",
   "metadata": {},
   "source": [
    "## Challenge: Implement a Regression based on Decision Trees\n",
    "\n",
    "- Use the same data set (Iris)\n",
    "- Choose your features (one, two, all...)\n",
    "- Train, test and visualize\n"
   ]
  },
  {
   "cell_type": "code",
   "id": "ab81e203",
   "metadata": {},
   "source": [
    "from sklearn.tree import DecisionTreeRegressor\n",
    "from sklearn.metrics import mean_squared_error\n",
    "\n",
    "# For regression, let's predict petal length (feature index 2) using the other features\n",
    "y_reg = X[:, 2]  # Petal length\n",
    "X_reg = X[:, [0, 1, 3]]  # Use all features except petal length\n",
    "\n",
    "# Split into train and test sets (reuse train_test_split if available)\n",
    "X_reg_train, X_reg_test, y_reg_train, y_reg_test = train_test_split(X_reg, y_reg, test_size=0.2, random_state=42)\n",
    "\n",
    "# Create and train the Decision Tree Regressor\n",
    "dt_reg = DecisionTreeRegressor(random_state=42)\n",
    "dt_reg.fit(X_reg_train, y_reg_train)\n",
    "\n",
    "# Predict on the test set\n",
    "y_reg_pred = dt_reg.predict(X_reg_test)\n",
    "\n",
    "# Evaluate the regression performance\n",
    "mse = mean_squared_error(y_reg_test, y_reg_pred)\n",
    "print(f\"Decision Tree Regression MSE (Petal Length): {mse:.2f}\")"
   ],
   "outputs": [],
   "execution_count": null
  },
  {
   "metadata": {},
   "cell_type": "code",
   "source": "",
   "id": "93157afeefcd1a12",
   "outputs": [],
   "execution_count": null
  },
  {
   "metadata": {},
   "cell_type": "code",
   "source": "",
   "id": "d2431c8fcbb5c5df",
   "outputs": [],
   "execution_count": null
  },
  {
   "metadata": {
    "ExecuteTime": {
     "end_time": "2025-06-05T18:14:26.362797Z",
     "start_time": "2025-06-05T18:14:26.351971Z"
    }
   },
   "cell_type": "code",
   "source": "\n",
   "id": "1d786cb7c5d378ee",
   "outputs": [
    {
     "name": "stdout",
     "output_type": "stream",
     "text": [
      "+----+------------+-----------------+------------------+---------+\n",
      "|    |   Bedrooms |   SquareFootage |   DistanceToCity |   Price |\n",
      "+====+============+=================+==================+=========+\n",
      "|  0 |          2 |             900 |               10 |  250000 |\n",
      "|  1 |          3 |            1500 |                5 |  400000 |\n",
      "|  2 |          4 |            2000 |                2 |  600000 |\n",
      "|  3 |          3 |            1200 |               15 |  300000 |\n",
      "|  4 |          5 |            2500 |                1 |  750000 |\n",
      "|  5 |          2 |             800 |               20 |  200000 |\n",
      "|  6 |          4 |            1800 |                4 |  550000 |\n",
      "|  7 |          3 |            1300 |               12 |  320000 |\n",
      "+----+------------+-----------------+------------------+---------+\n",
      "Actual: $400,000 | Predicted: $250,000\n",
      "Actual: $200,000 | Predicted: $300,000\n"
     ]
    }
   ],
   "execution_count": 3
  }
 ],
 "metadata": {
  "kernelspec": {
   "display_name": ".venv",
   "language": "python",
   "name": "python3"
  },
  "language_info": {
   "codemirror_mode": {
    "name": "ipython",
    "version": 3
   },
   "file_extension": ".py",
   "mimetype": "text/x-python",
   "name": "python",
   "nbconvert_exporter": "python",
   "pygments_lexer": "ipython3",
   "version": "3.12.1"
  }
 },
 "nbformat": 4,
 "nbformat_minor": 5
}
